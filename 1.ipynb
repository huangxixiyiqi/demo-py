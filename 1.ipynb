{
 "cells": [
  {
   "cell_type": "code",
   "execution_count": 2,
   "metadata": {},
   "outputs": [
    {
     "name": "stdout",
     "output_type": "stream",
     "text": [
      "这段文本是中文\n"
     ]
    }
   ],
   "source": [
    "import langid\n",
    "\n",
    "def detect_language(text):\n",
    "    result = langid.classify(text)\n",
    "    return result[0]\n",
    "\n",
    "# text = input(\"请输入一段文本: \")\n",
    "language = detect_language('我是中国人')\n",
    "\n",
    "if language == 'zh':\n",
    "    print(\"这段文本是中文\")\n",
    "elif language == 'en':\n",
    "    print(\"这段文本是英文\")\n",
    "else:\n",
    "    print(\"无法确定文本语言\")"
   ]
  }
 ],
 "metadata": {
  "kernelspec": {
   "display_name": "llava",
   "language": "python",
   "name": "python3"
  },
  "language_info": {
   "codemirror_mode": {
    "name": "ipython",
    "version": 3
   },
   "file_extension": ".py",
   "mimetype": "text/x-python",
   "name": "python",
   "nbconvert_exporter": "python",
   "pygments_lexer": "ipython3",
   "version": "3.10.13"
  }
 },
 "nbformat": 4,
 "nbformat_minor": 2
}
