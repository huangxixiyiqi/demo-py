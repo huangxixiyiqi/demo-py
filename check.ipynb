{
 "cells": [
  {
   "cell_type": "code",
   "execution_count": 4,
   "metadata": {},
   "outputs": [
    {
     "name": "stdout",
     "output_type": "stream",
     "text": [
      "Non-empty folder count: 1000\n"
     ]
    }
   ],
   "source": [
    "import os\n",
    "\n",
    "\n",
    "def count_non_empty_folders(path):\n",
    "    count = 0\n",
    "\n",
    "    for root, dirs, files in os.walk(path):\n",
    "        for dir_name in dirs:\n",
    "            folder_path = os.path.join(root, dir_name)\n",
    "            if len(os.listdir(folder_path)) > 0:\n",
    "                if len(os.listdir(folder_path)) != 1000:\n",
    "                    print(folder_path)\n",
    "                count += 1\n",
    "\n",
    "    return count\n",
    "\n",
    "# 指定路径\n",
    "folder_path = '/media/disk2/zz/ImageData/ImageData'\n",
    "\n",
    "# 统计非空文件夹数量\n",
    "non_empty_folder_count = count_non_empty_folders(folder_path)\n",
    "\n",
    "print(\"Non-empty folder count:\", non_empty_folder_count)"
   ]
  },
  {
   "cell_type": "code",
   "execution_count": 5,
   "metadata": {},
   "outputs": [
    {
     "name": "stdout",
     "output_type": "stream",
     "text": [
      "File count: 1000000\n"
     ]
    }
   ],
   "source": [
    "import os\n",
    "\n",
    "def count_files(path):\n",
    "    count = 0\n",
    "\n",
    "    for root, dirs, files in os.walk(path):\n",
    "        count += len(files)\n",
    "\n",
    "    return count\n",
    "\n",
    "# 指定路径\n",
    "folder_path = '/media/disk2/zz/msr_image_data'\n",
    "\n",
    "# 统计文件数量\n",
    "file_count = count_files(folder_path)\n",
    "\n",
    "print(\"File count:\", file_count)"
   ]
  },
  {
   "cell_type": "code",
   "execution_count": 2,
   "metadata": {},
   "outputs": [
    {
     "name": "stdout",
     "output_type": "stream",
     "text": [
      "(1000000, 512)\n"
     ]
    }
   ],
   "source": [
    "import h5py\n",
    "import numpy as np\n",
    "image_clip_feat = h5py.File('/home/zz/code/msr_all_clip_feat_concat.h5')\n",
    "# image_clip_feat = h5py.File('/home/zz/code/zz_code/demo/msr_part_clip_feat.hdf5')\n",
    "print(image_clip_feat['all_clip_feat_concat'][:].shape)\n",
    "image_clip_feat.close()"
   ]
  }
 ],
 "metadata": {
  "kernelspec": {
   "display_name": "llava",
   "language": "python",
   "name": "python3"
  },
  "language_info": {
   "codemirror_mode": {
    "name": "ipython",
    "version": 3
   },
   "file_extension": ".py",
   "mimetype": "text/x-python",
   "name": "python",
   "nbconvert_exporter": "python",
   "pygments_lexer": "ipython3",
   "version": "3.10.13"
  }
 },
 "nbformat": 4,
 "nbformat_minor": 2
}
