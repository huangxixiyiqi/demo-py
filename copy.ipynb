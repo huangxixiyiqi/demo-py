{
 "cells": [
  {
   "cell_type": "code",
   "execution_count": 7,
   "metadata": {},
   "outputs": [],
   "source": [
    "import os\n",
    "import shutil\n",
    "\n",
    "def copy_images(source_path, destination_path):\n",
    "    image_extensions = ['.jpg', '.jpeg', '.png', '.gif']  # 图片文件扩展名列表\n",
    "\n",
    "    for root, dirs, files in os.walk(source_path):\n",
    "        for file in files:\n",
    "            file_path = os.path.join(root, file)\n",
    "            file_name, file_ext = os.path.splitext(file)\n",
    "\n",
    "            if file_ext.lower() in image_extensions:\n",
    "                \n",
    "\n",
    "                destination_file = os.path.join(destination_path, file)\n",
    "                shutil.copy2(file_path, destination_file)\n",
    "\n",
    "# 指定源路径和目标路径\n",
    "source_path = '/media/disk2/zz/ImageData/ImageData'\n",
    "destination_path = '/media/disk2/zz/msr_image_data'\n",
    "\n",
    "# 拷贝图片\n",
    "copy_images(source_path, destination_path)"
   ]
  }
 ],
 "metadata": {
  "kernelspec": {
   "display_name": "llava",
   "language": "python",
   "name": "python3"
  },
  "language_info": {
   "codemirror_mode": {
    "name": "ipython",
    "version": 3
   },
   "file_extension": ".py",
   "mimetype": "text/x-python",
   "name": "python",
   "nbconvert_exporter": "python",
   "pygments_lexer": "ipython3",
   "version": "3.10.13"
  }
 },
 "nbformat": 4,
 "nbformat_minor": 2
}
